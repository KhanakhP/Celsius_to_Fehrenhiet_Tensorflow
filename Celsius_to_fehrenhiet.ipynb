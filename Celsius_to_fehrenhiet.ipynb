{
  "nbformat": 4,
  "nbformat_minor": 0,
  "metadata": {
    "colab": {
      "provenance": [],
      "authorship_tag": "ABX9TyOoLkOEl0JI8VIv+pW2Tnib",
      "include_colab_link": true
    },
    "kernelspec": {
      "name": "python3",
      "display_name": "Python 3"
    },
    "language_info": {
      "name": "python"
    }
  },
  "cells": [
    {
      "cell_type": "markdown",
      "metadata": {
        "id": "view-in-github",
        "colab_type": "text"
      },
      "source": [
        "<a href=\"https://colab.research.google.com/github/KhanakhP/Celsius_to_Fehrenhiet_Tensorflow/blob/main/Celsius_to_fehrenhiet.ipynb\" target=\"_parent\"><img src=\"https://colab.research.google.com/assets/colab-badge.svg\" alt=\"Open In Colab\"/></a>"
      ]
    },
    {
      "cell_type": "code",
      "execution_count": 1,
      "metadata": {
        "colab": {
          "base_uri": "https://localhost:8080/"
        },
        "id": "KuVtvlgaSBl9",
        "outputId": "d320d96c-23cd-41cf-c7a0-1b865b17efc0"
      },
      "outputs": [
        {
          "output_type": "stream",
          "name": "stdout",
          "text": [
            "/content\n",
            "total 4\n",
            "drwxr-xr-x 1 root root 4096 Apr  7 13:43 sample_data\n"
          ]
        }
      ],
      "source": [
        "!pwd\n",
        "!cd /\n",
        "!ls -l"
      ]
    },
    {
      "cell_type": "code",
      "source": [
        "import tensorflow as tf\n",
        "import numpy as np"
      ],
      "metadata": {
        "id": "irbAHkIqSJMp"
      },
      "execution_count": 2,
      "outputs": []
    },
    {
      "cell_type": "code",
      "source": [
        "celsius = np.array([-82, -56, -40, -17, -15, -4, 0, 8, 15, 22,  38, 66], dtype = float)\n",
        "fehrenhiet = np.array([-115.6, -68.8, -40, 1.4, 5, 24.8, 32, 46.4, 59, 71.6, 100.4, 150.8], dtype = float)\n",
        "\n",
        "for i,c in enumerate(celsius) :\n",
        "  print(\"{} degree Celsius = {} degree Fehrenhiet \".format(c, fehrenhiet[i]))"
      ],
      "metadata": {
        "colab": {
          "base_uri": "https://localhost:8080/"
        },
        "id": "9fJ4TJdnSJJ6",
        "outputId": "fff293ca-7777-40f9-9c79-46dc23f63327"
      },
      "execution_count": 14,
      "outputs": [
        {
          "output_type": "stream",
          "name": "stdout",
          "text": [
            "-82.0 degree Celsius = -115.6 degree Fehrenhiet \n",
            "-56.0 degree Celsius = -68.8 degree Fehrenhiet \n",
            "-40.0 degree Celsius = -40.0 degree Fehrenhiet \n",
            "-17.0 degree Celsius = 1.4 degree Fehrenhiet \n",
            "-15.0 degree Celsius = 5.0 degree Fehrenhiet \n",
            "-4.0 degree Celsius = 24.8 degree Fehrenhiet \n",
            "0.0 degree Celsius = 32.0 degree Fehrenhiet \n",
            "8.0 degree Celsius = 46.4 degree Fehrenhiet \n",
            "15.0 degree Celsius = 59.0 degree Fehrenhiet \n",
            "22.0 degree Celsius = 71.6 degree Fehrenhiet \n",
            "38.0 degree Celsius = 100.4 degree Fehrenhiet \n",
            "66.0 degree Celsius = 150.8 degree Fehrenhiet \n"
          ]
        }
      ]
    },
    {
      "cell_type": "code",
      "source": [
        "ab = tf.keras.layers.Dense(units = 1, input_shape = [1])"
      ],
      "metadata": {
        "colab": {
          "base_uri": "https://localhost:8080/"
        },
        "id": "y-GQ4HhFSJHB",
        "outputId": "ff5d80a9-d90e-4141-9715-9c16f6169bb4"
      },
      "execution_count": 16,
      "outputs": [
        {
          "output_type": "stream",
          "name": "stderr",
          "text": [
            "/usr/local/lib/python3.11/dist-packages/keras/src/layers/core/dense.py:87: UserWarning: Do not pass an `input_shape`/`input_dim` argument to a layer. When using Sequential models, prefer using an `Input(shape)` object as the first layer in the model instead.\n",
            "  super().__init__(activity_regularizer=activity_regularizer, **kwargs)\n"
          ]
        }
      ]
    },
    {
      "cell_type": "code",
      "source": [
        "model = tf.keras.Sequential([ab])"
      ],
      "metadata": {
        "id": "JUzp18jWSJD5"
      },
      "execution_count": 20,
      "outputs": []
    },
    {
      "cell_type": "code",
      "source": [
        "model.compile(loss = 'mean_squared_error', optimizer = tf.keras.optimizers.Adam(0.01))"
      ],
      "metadata": {
        "id": "am_lhSLsSJBJ"
      },
      "execution_count": 49,
      "outputs": []
    },
    {
      "cell_type": "code",
      "source": [
        "train = model.fit(celsius, fehrenhiet, epochs = 600, verbose = False)"
      ],
      "metadata": {
        "id": "BhqUN3AvSI96"
      },
      "execution_count": 50,
      "outputs": []
    },
    {
      "cell_type": "code",
      "source": [
        "import matplotlib.pyplot as plt\n",
        "plt.xlabel(\"Epoch Number\")\n",
        "plt.ylabel(\"Loss Magnitude\")\n",
        "plt.plot(train.history['loss'])"
      ],
      "metadata": {
        "colab": {
          "base_uri": "https://localhost:8080/",
          "height": 468
        },
        "id": "aN00FSwCSI7K",
        "outputId": "8e4160c1-f0a7-48b0-aa25-bd204ea87c90"
      },
      "execution_count": 51,
      "outputs": [
        {
          "output_type": "execute_result",
          "data": {
            "text/plain": [
              "[<matplotlib.lines.Line2D at 0x786f8f89fd50>]"
            ]
          },
          "metadata": {},
          "execution_count": 51
        },
        {
          "output_type": "display_data",
          "data": {
            "text/plain": [
              "<Figure size 640x480 with 1 Axes>"
            ],
            "image/png": "[encoded data removed]"
          },
          "metadata": {}
        }
      ]
    },
    {
      "cell_type": "code",
      "source": [
        "model.predict(np.array([-4]))"
      ],
      "metadata": {
        "colab": {
          "base_uri": "https://localhost:8080/"
        },
        "id": "-m4e0Ri0SI4b",
        "outputId": "de86812c-737b-4e95-bf4c-4e21d3960b9d"
      },
      "execution_count": 56,
      "outputs": [
        {
          "output_type": "stream",
          "name": "stdout",
          "text": [
            "\u001b[1m1/1\u001b[0m \u001b[32m━━━━━━━━━━━━━━━━━━━━\u001b[0m\u001b[37m\u001b[0m \u001b[1m0s\u001b[0m 64ms/step\n"
          ]
        },
        {
          "output_type": "execute_result",
          "data": {
            "text/plain": [
              "array([[24.77081]], dtype=float32)"
            ]
          },
          "metadata": {},
          "execution_count": 56
        }
      ]
    },
    {
      "cell_type": "code",
      "source": [
        "print(\"This are layer variables: {}\".format(ab.get_weights()))"
      ],
      "metadata": {
        "colab": {
          "base_uri": "https://localhost:8080/"
        },
        "id": "p720GtnKSI1a",
        "outputId": "f4e1fd6b-6460-478d-f90a-229edd75fd07"
      },
      "execution_count": 58,
      "outputs": [
        {
          "output_type": "stream",
          "name": "stdout",
          "text": [
            "This are layer variables: [array([[1.7998961]], dtype=float32), array([31.970394], dtype=float32)]\n"
          ]
        }
      ]
    },
    {
      "cell_type": "code",
      "source": [],
      "metadata": {
        "id": "d44xYvBBSIyb"
      },
      "execution_count": null,
      "outputs": []
    }
  ]
}